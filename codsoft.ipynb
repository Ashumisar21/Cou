{
 "cells": [
  {
   "cell_type": "code",
   "execution_count": 1,
   "id": "f20ab747",
   "metadata": {
    "_cell_guid": "b1076dfc-b9ad-4769-8c92-a6c4dae69d19",
    "_uuid": "8f2839f25d086af736a60e9eeb907d3b93b6e0e5",
    "execution": {
     "iopub.execute_input": "2024-09-28T01:06:36.464940Z",
     "iopub.status.busy": "2024-09-28T01:06:36.464477Z",
     "iopub.status.idle": "2024-09-28T01:06:37.438540Z",
     "shell.execute_reply": "2024-09-28T01:06:37.437108Z"
    },
    "papermill": {
     "duration": 0.992743,
     "end_time": "2024-09-28T01:06:37.441532",
     "exception": false,
     "start_time": "2024-09-28T01:06:36.448789",
     "status": "completed"
    },
    "tags": []
   },
   "outputs": [
    {
     "name": "stdout",
     "output_type": "stream",
     "text": [
      "/kaggle/input/codsoft-iris-flower21/IRIS.csv\n"
     ]
    }
   ],
   "source": [
    "#flower Classification \n",
    "#The goal of this task is to develop a machine learning model that accurately classify Iris flowers into their respective species.\n",
    "# analysis and generating report on it\n",
    "\n",
    "# This Python 3 environment comes with many helpful analytics libraries installed\n",
    "# It is defined by the kaggle/python Docker image: https://github.com/kaggle/docker-python\n",
    "# For example, here's several helpful packages to load\n",
    "\n",
    "import numpy as np # linear algebra\n",
    "import pandas as pd # data processing, CSV file I/O (e.g. pd.read_csv)\n",
    "\n",
    "# Input data files are available in the read-only \"../input/\" directory\n",
    "# For example, running this (by clicking run or pressing Shift+Enter) will list all files under the input directory\n",
    "\n",
    "import os\n",
    "for dirname, _, filenames in os.walk('/kaggle/input'):\n",
    "    for filename in filenames:\n",
    "        print(os.path.join(dirname, filename))\n",
    "\n",
    "# You can write up to 20GB to the current directory (/kaggle/working/) that gets preserved as output when you create a version using \"Save & Run All\" \n",
    "# You can also write temporary files to /kaggle/temp/, but they won't be saved outside of the current session"
   ]
  },
  {
   "cell_type": "markdown",
   "id": "b539cb8d",
   "metadata": {
    "papermill": {
     "duration": 0.013268,
     "end_time": "2024-09-28T01:06:37.468771",
     "exception": false,
     "start_time": "2024-09-28T01:06:37.455503",
     "status": "completed"
    },
    "tags": []
   },
   "source": [
    "**Data Exploration and Preprocessing**"
   ]
  },
  {
   "cell_type": "code",
   "execution_count": 2,
   "id": "e65e7a5e",
   "metadata": {
    "execution": {
     "iopub.execute_input": "2024-09-28T01:06:37.498789Z",
     "iopub.status.busy": "2024-09-28T01:06:37.498211Z",
     "iopub.status.idle": "2024-09-28T01:06:39.657676Z",
     "shell.execute_reply": "2024-09-28T01:06:39.656459Z"
    },
    "papermill": {
     "duration": 2.178303,
     "end_time": "2024-09-28T01:06:39.660625",
     "exception": false,
     "start_time": "2024-09-28T01:06:37.482322",
     "status": "completed"
    },
    "tags": []
   },
   "outputs": [],
   "source": [
    "# Import necessary libraries\n",
    "import pandas as pd\n",
    "import seaborn as sns\n",
    "import matplotlib.pyplot as plt\n",
    "from sklearn import datasets"
   ]
  },
  {
   "cell_type": "code",
   "execution_count": 3,
   "id": "b3b225a6",
   "metadata": {
    "execution": {
     "iopub.execute_input": "2024-09-28T01:06:39.689856Z",
     "iopub.status.busy": "2024-09-28T01:06:39.689210Z",
     "iopub.status.idle": "2024-09-28T01:06:39.714858Z",
     "shell.execute_reply": "2024-09-28T01:06:39.713606Z"
    },
    "papermill": {
     "duration": 0.043669,
     "end_time": "2024-09-28T01:06:39.717938",
     "exception": false,
     "start_time": "2024-09-28T01:06:39.674269",
     "status": "completed"
    },
    "tags": []
   },
   "outputs": [],
   "source": [
    "# Load the Iris dataset\n",
    "iris = pd.read_csv(\"/kaggle/input/codsoft-iris-flower21/IRIS.csv\")\n"
   ]
  },
  {
   "cell_type": "code",
   "execution_count": 4,
   "id": "fc4b7ab4",
   "metadata": {
    "execution": {
     "iopub.execute_input": "2024-09-28T01:06:39.748698Z",
     "iopub.status.busy": "2024-09-28T01:06:39.747874Z",
     "iopub.status.idle": "2024-09-28T01:06:39.780416Z",
     "shell.execute_reply": "2024-09-28T01:06:39.779127Z"
    },
    "papermill": {
     "duration": 0.051066,
     "end_time": "2024-09-28T01:06:39.783223",
     "exception": false,
     "start_time": "2024-09-28T01:06:39.732157",
     "status": "completed"
    },
    "tags": []
   },
   "outputs": [
    {
     "data": {
      "text/html": [
       "<div>\n",
       "<style scoped>\n",
       "    .dataframe tbody tr th:only-of-type {\n",
       "        vertical-align: middle;\n",
       "    }\n",
       "\n",
       "    .dataframe tbody tr th {\n",
       "        vertical-align: top;\n",
       "    }\n",
       "\n",
       "    .dataframe thead th {\n",
       "        text-align: right;\n",
       "    }\n",
       "</style>\n",
       "<table border=\"1\" class=\"dataframe\">\n",
       "  <thead>\n",
       "    <tr style=\"text-align: right;\">\n",
       "      <th></th>\n",
       "      <th>sepal_length</th>\n",
       "      <th>sepal_width</th>\n",
       "      <th>petal_length</th>\n",
       "      <th>petal_width</th>\n",
       "      <th>species</th>\n",
       "    </tr>\n",
       "  </thead>\n",
       "  <tbody>\n",
       "    <tr>\n",
       "      <th>0</th>\n",
       "      <td>5.1</td>\n",
       "      <td>3.5</td>\n",
       "      <td>1.4</td>\n",
       "      <td>0.2</td>\n",
       "      <td>Iris-setosa</td>\n",
       "    </tr>\n",
       "    <tr>\n",
       "      <th>1</th>\n",
       "      <td>4.9</td>\n",
       "      <td>3.0</td>\n",
       "      <td>1.4</td>\n",
       "      <td>0.2</td>\n",
       "      <td>Iris-setosa</td>\n",
       "    </tr>\n",
       "    <tr>\n",
       "      <th>2</th>\n",
       "      <td>4.7</td>\n",
       "      <td>3.2</td>\n",
       "      <td>1.3</td>\n",
       "      <td>0.2</td>\n",
       "      <td>Iris-setosa</td>\n",
       "    </tr>\n",
       "    <tr>\n",
       "      <th>3</th>\n",
       "      <td>4.6</td>\n",
       "      <td>3.1</td>\n",
       "      <td>1.5</td>\n",
       "      <td>0.2</td>\n",
       "      <td>Iris-setosa</td>\n",
       "    </tr>\n",
       "    <tr>\n",
       "      <th>4</th>\n",
       "      <td>5.0</td>\n",
       "      <td>3.6</td>\n",
       "      <td>1.4</td>\n",
       "      <td>0.2</td>\n",
       "      <td>Iris-setosa</td>\n",
       "    </tr>\n",
       "    <tr>\n",
       "      <th>5</th>\n",
       "      <td>5.4</td>\n",
       "      <td>3.9</td>\n",
       "      <td>1.7</td>\n",
       "      <td>0.4</td>\n",
       "      <td>Iris-setosa</td>\n",
       "    </tr>\n",
       "    <tr>\n",
       "      <th>6</th>\n",
       "      <td>4.6</td>\n",
       "      <td>3.4</td>\n",
       "      <td>1.4</td>\n",
       "      <td>0.3</td>\n",
       "      <td>Iris-setosa</td>\n",
       "    </tr>\n",
       "    <tr>\n",
       "      <th>7</th>\n",
       "      <td>5.0</td>\n",
       "      <td>3.4</td>\n",
       "      <td>1.5</td>\n",
       "      <td>0.2</td>\n",
       "      <td>Iris-setosa</td>\n",
       "    </tr>\n",
       "    <tr>\n",
       "      <th>8</th>\n",
       "      <td>4.4</td>\n",
       "      <td>2.9</td>\n",
       "      <td>1.4</td>\n",
       "      <td>0.2</td>\n",
       "      <td>Iris-setosa</td>\n",
       "    </tr>\n",
       "    <tr>\n",
       "      <th>9</th>\n",
       "      <td>4.9</td>\n",
       "      <td>3.1</td>\n",
       "      <td>1.5</td>\n",
       "      <td>0.1</td>\n",
       "      <td>Iris-setosa</td>\n",
       "    </tr>\n",
       "    <tr>\n",
       "      <th>10</th>\n",
       "      <td>5.4</td>\n",
       "      <td>3.7</td>\n",
       "      <td>1.5</td>\n",
       "      <td>0.2</td>\n",
       "      <td>Iris-setosa</td>\n",
       "    </tr>\n",
       "  </tbody>\n",
       "</table>\n",
       "</div>"
      ],
      "text/plain": [
       "    sepal_length  sepal_width  petal_length  petal_width      species\n",
       "0            5.1          3.5           1.4          0.2  Iris-setosa\n",
       "1            4.9          3.0           1.4          0.2  Iris-setosa\n",
       "2            4.7          3.2           1.3          0.2  Iris-setosa\n",
       "3            4.6          3.1           1.5          0.2  Iris-setosa\n",
       "4            5.0          3.6           1.4          0.2  Iris-setosa\n",
       "5            5.4          3.9           1.7          0.4  Iris-setosa\n",
       "6            4.6          3.4           1.4          0.3  Iris-setosa\n",
       "7            5.0          3.4           1.5          0.2  Iris-setosa\n",
       "8            4.4          2.9           1.4          0.2  Iris-setosa\n",
       "9            4.9          3.1           1.5          0.1  Iris-setosa\n",
       "10           5.4          3.7           1.5          0.2  Iris-setosa"
      ]
     },
     "execution_count": 4,
     "metadata": {},
     "output_type": "execute_result"
    }
   ],
   "source": [
    "# Show the first few rows of the dataset\n",
    "iris.head(11)"
   ]
  },
  {
   "cell_type": "code",
   "execution_count": 5,
   "id": "a29e9fa6",
   "metadata": {
    "execution": {
     "iopub.execute_input": "2024-09-28T01:06:39.813860Z",
     "iopub.status.busy": "2024-09-28T01:06:39.813390Z",
     "iopub.status.idle": "2024-09-28T01:06:39.832058Z",
     "shell.execute_reply": "2024-09-28T01:06:39.830866Z"
    },
    "papermill": {
     "duration": 0.037464,
     "end_time": "2024-09-28T01:06:39.835200",
     "exception": false,
     "start_time": "2024-09-28T01:06:39.797736",
     "status": "completed"
    },
    "tags": []
   },
   "outputs": [
    {
     "data": {
      "text/html": [
       "<div>\n",
       "<style scoped>\n",
       "    .dataframe tbody tr th:only-of-type {\n",
       "        vertical-align: middle;\n",
       "    }\n",
       "\n",
       "    .dataframe tbody tr th {\n",
       "        vertical-align: top;\n",
       "    }\n",
       "\n",
       "    .dataframe thead th {\n",
       "        text-align: right;\n",
       "    }\n",
       "</style>\n",
       "<table border=\"1\" class=\"dataframe\">\n",
       "  <thead>\n",
       "    <tr style=\"text-align: right;\">\n",
       "      <th></th>\n",
       "      <th>sepal_length</th>\n",
       "      <th>sepal_width</th>\n",
       "      <th>petal_length</th>\n",
       "      <th>petal_width</th>\n",
       "      <th>species</th>\n",
       "    </tr>\n",
       "  </thead>\n",
       "  <tbody>\n",
       "    <tr>\n",
       "      <th>140</th>\n",
       "      <td>6.7</td>\n",
       "      <td>3.1</td>\n",
       "      <td>5.6</td>\n",
       "      <td>2.4</td>\n",
       "      <td>Iris-virginica</td>\n",
       "    </tr>\n",
       "    <tr>\n",
       "      <th>141</th>\n",
       "      <td>6.9</td>\n",
       "      <td>3.1</td>\n",
       "      <td>5.1</td>\n",
       "      <td>2.3</td>\n",
       "      <td>Iris-virginica</td>\n",
       "    </tr>\n",
       "    <tr>\n",
       "      <th>142</th>\n",
       "      <td>5.8</td>\n",
       "      <td>2.7</td>\n",
       "      <td>5.1</td>\n",
       "      <td>1.9</td>\n",
       "      <td>Iris-virginica</td>\n",
       "    </tr>\n",
       "    <tr>\n",
       "      <th>143</th>\n",
       "      <td>6.8</td>\n",
       "      <td>3.2</td>\n",
       "      <td>5.9</td>\n",
       "      <td>2.3</td>\n",
       "      <td>Iris-virginica</td>\n",
       "    </tr>\n",
       "    <tr>\n",
       "      <th>144</th>\n",
       "      <td>6.7</td>\n",
       "      <td>3.3</td>\n",
       "      <td>5.7</td>\n",
       "      <td>2.5</td>\n",
       "      <td>Iris-virginica</td>\n",
       "    </tr>\n",
       "    <tr>\n",
       "      <th>145</th>\n",
       "      <td>6.7</td>\n",
       "      <td>3.0</td>\n",
       "      <td>5.2</td>\n",
       "      <td>2.3</td>\n",
       "      <td>Iris-virginica</td>\n",
       "    </tr>\n",
       "    <tr>\n",
       "      <th>146</th>\n",
       "      <td>6.3</td>\n",
       "      <td>2.5</td>\n",
       "      <td>5.0</td>\n",
       "      <td>1.9</td>\n",
       "      <td>Iris-virginica</td>\n",
       "    </tr>\n",
       "    <tr>\n",
       "      <th>147</th>\n",
       "      <td>6.5</td>\n",
       "      <td>3.0</td>\n",
       "      <td>5.2</td>\n",
       "      <td>2.0</td>\n",
       "      <td>Iris-virginica</td>\n",
       "    </tr>\n",
       "    <tr>\n",
       "      <th>148</th>\n",
       "      <td>6.2</td>\n",
       "      <td>3.4</td>\n",
       "      <td>5.4</td>\n",
       "      <td>2.3</td>\n",
       "      <td>Iris-virginica</td>\n",
       "    </tr>\n",
       "    <tr>\n",
       "      <th>149</th>\n",
       "      <td>5.9</td>\n",
       "      <td>3.0</td>\n",
       "      <td>5.1</td>\n",
       "      <td>1.8</td>\n",
       "      <td>Iris-virginica</td>\n",
       "    </tr>\n",
       "  </tbody>\n",
       "</table>\n",
       "</div>"
      ],
      "text/plain": [
       "     sepal_length  sepal_width  petal_length  petal_width         species\n",
       "140           6.7          3.1           5.6          2.4  Iris-virginica\n",
       "141           6.9          3.1           5.1          2.3  Iris-virginica\n",
       "142           5.8          2.7           5.1          1.9  Iris-virginica\n",
       "143           6.8          3.2           5.9          2.3  Iris-virginica\n",
       "144           6.7          3.3           5.7          2.5  Iris-virginica\n",
       "145           6.7          3.0           5.2          2.3  Iris-virginica\n",
       "146           6.3          2.5           5.0          1.9  Iris-virginica\n",
       "147           6.5          3.0           5.2          2.0  Iris-virginica\n",
       "148           6.2          3.4           5.4          2.3  Iris-virginica\n",
       "149           5.9          3.0           5.1          1.8  Iris-virginica"
      ]
     },
     "execution_count": 5,
     "metadata": {},
     "output_type": "execute_result"
    }
   ],
   "source": [
    "iris.tail(10)"
   ]
  },
  {
   "cell_type": "code",
   "execution_count": 6,
   "id": "a0f46419",
   "metadata": {
    "execution": {
     "iopub.execute_input": "2024-09-28T01:06:39.866324Z",
     "iopub.status.busy": "2024-09-28T01:06:39.865899Z",
     "iopub.status.idle": "2024-09-28T01:06:39.874121Z",
     "shell.execute_reply": "2024-09-28T01:06:39.872801Z"
    },
    "papermill": {
     "duration": 0.02703,
     "end_time": "2024-09-28T01:06:39.876697",
     "exception": false,
     "start_time": "2024-09-28T01:06:39.849667",
     "status": "completed"
    },
    "tags": []
   },
   "outputs": [
    {
     "data": {
      "text/plain": [
       "(150, 5)"
      ]
     },
     "execution_count": 6,
     "metadata": {},
     "output_type": "execute_result"
    }
   ],
   "source": [
    "iris.shape"
   ]
  },
  {
   "cell_type": "code",
   "execution_count": 7,
   "id": "5f902242",
   "metadata": {
    "execution": {
     "iopub.execute_input": "2024-09-28T01:06:39.908717Z",
     "iopub.status.busy": "2024-09-28T01:06:39.908293Z",
     "iopub.status.idle": "2024-09-28T01:06:39.935926Z",
     "shell.execute_reply": "2024-09-28T01:06:39.934843Z"
    },
    "papermill": {
     "duration": 0.04668,
     "end_time": "2024-09-28T01:06:39.938663",
     "exception": false,
     "start_time": "2024-09-28T01:06:39.891983",
     "status": "completed"
    },
    "tags": []
   },
   "outputs": [
    {
     "name": "stdout",
     "output_type": "stream",
     "text": [
      "<class 'pandas.core.frame.DataFrame'>\n",
      "RangeIndex: 150 entries, 0 to 149\n",
      "Data columns (total 5 columns):\n",
      " #   Column        Non-Null Count  Dtype  \n",
      "---  ------        --------------  -----  \n",
      " 0   sepal_length  150 non-null    float64\n",
      " 1   sepal_width   150 non-null    float64\n",
      " 2   petal_length  150 non-null    float64\n",
      " 3   petal_width   150 non-null    float64\n",
      " 4   species       150 non-null    object \n",
      "dtypes: float64(4), object(1)\n",
      "memory usage: 6.0+ KB\n"
     ]
    }
   ],
   "source": [
    "iris.info()"
   ]
  },
  {
   "cell_type": "markdown",
   "id": "09986635",
   "metadata": {
    "papermill": {
     "duration": 0.014265,
     "end_time": "2024-09-28T01:06:39.967390",
     "exception": false,
     "start_time": "2024-09-28T01:06:39.953125",
     "status": "completed"
    },
    "tags": []
   },
   "source": [
    "**Data Cleaning**"
   ]
  },
  {
   "cell_type": "code",
   "execution_count": 8,
   "id": "18bc9fde",
   "metadata": {
    "execution": {
     "iopub.execute_input": "2024-09-28T01:06:39.998280Z",
     "iopub.status.busy": "2024-09-28T01:06:39.997796Z",
     "iopub.status.idle": "2024-09-28T01:06:40.007890Z",
     "shell.execute_reply": "2024-09-28T01:06:40.006664Z"
    },
    "papermill": {
     "duration": 0.028787,
     "end_time": "2024-09-28T01:06:40.010592",
     "exception": false,
     "start_time": "2024-09-28T01:06:39.981805",
     "status": "completed"
    },
    "tags": []
   },
   "outputs": [
    {
     "data": {
      "text/plain": [
       "sepal_length    0\n",
       "sepal_width     0\n",
       "petal_length    0\n",
       "petal_width     0\n",
       "species         0\n",
       "dtype: int64"
      ]
     },
     "execution_count": 8,
     "metadata": {},
     "output_type": "execute_result"
    }
   ],
   "source": [
    "# Check NUll Value \n",
    "iris.isna().sum()"
   ]
  },
  {
   "cell_type": "code",
   "execution_count": 9,
   "id": "a0d4dc3a",
   "metadata": {
    "execution": {
     "iopub.execute_input": "2024-09-28T01:06:40.042349Z",
     "iopub.status.busy": "2024-09-28T01:06:40.041246Z",
     "iopub.status.idle": "2024-09-28T01:06:40.051934Z",
     "shell.execute_reply": "2024-09-28T01:06:40.050765Z"
    },
    "papermill": {
     "duration": 0.029589,
     "end_time": "2024-09-28T01:06:40.054756",
     "exception": false,
     "start_time": "2024-09-28T01:06:40.025167",
     "status": "completed"
    },
    "tags": []
   },
   "outputs": [
    {
     "data": {
      "text/plain": [
       "0      False\n",
       "1      False\n",
       "2      False\n",
       "3      False\n",
       "4      False\n",
       "       ...  \n",
       "145    False\n",
       "146    False\n",
       "147    False\n",
       "148    False\n",
       "149    False\n",
       "Length: 150, dtype: bool"
      ]
     },
     "execution_count": 9,
     "metadata": {},
     "output_type": "execute_result"
    }
   ],
   "source": [
    "# Checking duplicate values\n",
    "iris.duplicated()"
   ]
  },
  {
   "cell_type": "code",
   "execution_count": 10,
   "id": "df87ad33",
   "metadata": {
    "execution": {
     "iopub.execute_input": "2024-09-28T01:06:40.086319Z",
     "iopub.status.busy": "2024-09-28T01:06:40.085828Z",
     "iopub.status.idle": "2024-09-28T01:06:40.095223Z",
     "shell.execute_reply": "2024-09-28T01:06:40.094020Z"
    },
    "papermill": {
     "duration": 0.028408,
     "end_time": "2024-09-28T01:06:40.097980",
     "exception": false,
     "start_time": "2024-09-28T01:06:40.069572",
     "status": "completed"
    },
    "tags": []
   },
   "outputs": [
    {
     "data": {
      "text/plain": [
       "3"
      ]
     },
     "execution_count": 10,
     "metadata": {},
     "output_type": "execute_result"
    }
   ],
   "source": [
    "iris.duplicated().sum()"
   ]
  },
  {
   "cell_type": "code",
   "execution_count": 11,
   "id": "afd6aa42",
   "metadata": {
    "execution": {
     "iopub.execute_input": "2024-09-28T01:06:40.130293Z",
     "iopub.status.busy": "2024-09-28T01:06:40.129730Z",
     "iopub.status.idle": "2024-09-28T01:06:40.143930Z",
     "shell.execute_reply": "2024-09-28T01:06:40.142704Z"
    },
    "papermill": {
     "duration": 0.033625,
     "end_time": "2024-09-28T01:06:40.146628",
     "exception": false,
     "start_time": "2024-09-28T01:06:40.113003",
     "status": "completed"
    },
    "tags": []
   },
   "outputs": [
    {
     "data": {
      "text/plain": [
       "(147, 5)"
      ]
     },
     "execution_count": 11,
     "metadata": {},
     "output_type": "execute_result"
    }
   ],
   "source": [
    "# Remove duplicate values\n",
    "iris= iris.drop_duplicates()\n",
    "iris.shape"
   ]
  },
  {
   "cell_type": "code",
   "execution_count": 12,
   "id": "654dbb20",
   "metadata": {
    "execution": {
     "iopub.execute_input": "2024-09-28T01:06:40.178672Z",
     "iopub.status.busy": "2024-09-28T01:06:40.178213Z",
     "iopub.status.idle": "2024-09-28T01:06:40.198189Z",
     "shell.execute_reply": "2024-09-28T01:06:40.196786Z"
    },
    "papermill": {
     "duration": 0.03917,
     "end_time": "2024-09-28T01:06:40.201001",
     "exception": false,
     "start_time": "2024-09-28T01:06:40.161831",
     "status": "completed"
    },
    "tags": []
   },
   "outputs": [
    {
     "data": {
      "text/html": [
       "<div>\n",
       "<style scoped>\n",
       "    .dataframe tbody tr th:only-of-type {\n",
       "        vertical-align: middle;\n",
       "    }\n",
       "\n",
       "    .dataframe tbody tr th {\n",
       "        vertical-align: top;\n",
       "    }\n",
       "\n",
       "    .dataframe thead th {\n",
       "        text-align: right;\n",
       "    }\n",
       "</style>\n",
       "<table border=\"1\" class=\"dataframe\">\n",
       "  <thead>\n",
       "    <tr style=\"text-align: right;\">\n",
       "      <th></th>\n",
       "      <th>sepal_length</th>\n",
       "      <th>sepal_width</th>\n",
       "      <th>petal_length</th>\n",
       "      <th>petal_width</th>\n",
       "      <th>species</th>\n",
       "    </tr>\n",
       "  </thead>\n",
       "  <tbody>\n",
       "    <tr>\n",
       "      <th>0</th>\n",
       "      <td>5.1</td>\n",
       "      <td>3.5</td>\n",
       "      <td>1.4</td>\n",
       "      <td>0.2</td>\n",
       "      <td>Iris-setosa</td>\n",
       "    </tr>\n",
       "    <tr>\n",
       "      <th>1</th>\n",
       "      <td>4.9</td>\n",
       "      <td>3.0</td>\n",
       "      <td>1.4</td>\n",
       "      <td>0.2</td>\n",
       "      <td>Iris-setosa</td>\n",
       "    </tr>\n",
       "    <tr>\n",
       "      <th>2</th>\n",
       "      <td>4.7</td>\n",
       "      <td>3.2</td>\n",
       "      <td>1.3</td>\n",
       "      <td>0.2</td>\n",
       "      <td>Iris-setosa</td>\n",
       "    </tr>\n",
       "    <tr>\n",
       "      <th>3</th>\n",
       "      <td>4.6</td>\n",
       "      <td>3.1</td>\n",
       "      <td>1.5</td>\n",
       "      <td>0.2</td>\n",
       "      <td>Iris-setosa</td>\n",
       "    </tr>\n",
       "    <tr>\n",
       "      <th>4</th>\n",
       "      <td>5.0</td>\n",
       "      <td>3.6</td>\n",
       "      <td>1.4</td>\n",
       "      <td>0.2</td>\n",
       "      <td>Iris-setosa</td>\n",
       "    </tr>\n",
       "    <tr>\n",
       "      <th>...</th>\n",
       "      <td>...</td>\n",
       "      <td>...</td>\n",
       "      <td>...</td>\n",
       "      <td>...</td>\n",
       "      <td>...</td>\n",
       "    </tr>\n",
       "    <tr>\n",
       "      <th>145</th>\n",
       "      <td>6.7</td>\n",
       "      <td>3.0</td>\n",
       "      <td>5.2</td>\n",
       "      <td>2.3</td>\n",
       "      <td>Iris-virginica</td>\n",
       "    </tr>\n",
       "    <tr>\n",
       "      <th>146</th>\n",
       "      <td>6.3</td>\n",
       "      <td>2.5</td>\n",
       "      <td>5.0</td>\n",
       "      <td>1.9</td>\n",
       "      <td>Iris-virginica</td>\n",
       "    </tr>\n",
       "    <tr>\n",
       "      <th>147</th>\n",
       "      <td>6.5</td>\n",
       "      <td>3.0</td>\n",
       "      <td>5.2</td>\n",
       "      <td>2.0</td>\n",
       "      <td>Iris-virginica</td>\n",
       "    </tr>\n",
       "    <tr>\n",
       "      <th>148</th>\n",
       "      <td>6.2</td>\n",
       "      <td>3.4</td>\n",
       "      <td>5.4</td>\n",
       "      <td>2.3</td>\n",
       "      <td>Iris-virginica</td>\n",
       "    </tr>\n",
       "    <tr>\n",
       "      <th>149</th>\n",
       "      <td>5.9</td>\n",
       "      <td>3.0</td>\n",
       "      <td>5.1</td>\n",
       "      <td>1.8</td>\n",
       "      <td>Iris-virginica</td>\n",
       "    </tr>\n",
       "  </tbody>\n",
       "</table>\n",
       "<p>147 rows × 5 columns</p>\n",
       "</div>"
      ],
      "text/plain": [
       "     sepal_length  sepal_width  petal_length  petal_width         species\n",
       "0             5.1          3.5           1.4          0.2     Iris-setosa\n",
       "1             4.9          3.0           1.4          0.2     Iris-setosa\n",
       "2             4.7          3.2           1.3          0.2     Iris-setosa\n",
       "3             4.6          3.1           1.5          0.2     Iris-setosa\n",
       "4             5.0          3.6           1.4          0.2     Iris-setosa\n",
       "..            ...          ...           ...          ...             ...\n",
       "145           6.7          3.0           5.2          2.3  Iris-virginica\n",
       "146           6.3          2.5           5.0          1.9  Iris-virginica\n",
       "147           6.5          3.0           5.2          2.0  Iris-virginica\n",
       "148           6.2          3.4           5.4          2.3  Iris-virginica\n",
       "149           5.9          3.0           5.1          1.8  Iris-virginica\n",
       "\n",
       "[147 rows x 5 columns]"
      ]
     },
     "execution_count": 12,
     "metadata": {},
     "output_type": "execute_result"
    }
   ],
   "source": [
    "iris"
   ]
  },
  {
   "cell_type": "code",
   "execution_count": 13,
   "id": "b2f2fbae",
   "metadata": {
    "execution": {
     "iopub.execute_input": "2024-09-28T01:06:40.234266Z",
     "iopub.status.busy": "2024-09-28T01:06:40.233154Z",
     "iopub.status.idle": "2024-09-28T01:06:40.534541Z",
     "shell.execute_reply": "2024-09-28T01:06:40.533410Z"
    },
    "papermill": {
     "duration": 0.320939,
     "end_time": "2024-09-28T01:06:40.537408",
     "exception": false,
     "start_time": "2024-09-28T01:06:40.216469",
     "status": "completed"
    },
    "tags": []
   },
   "outputs": [
    {
     "data": {
      "text/plain": [
       "<Axes: >"
      ]
     },
     "execution_count": 13,
     "metadata": {},
     "output_type": "execute_result"
    },
    {
     "data": {
      "image/png": "[encoded data removed]",
      "text/plain": [
       "<Figure size 1000x500 with 1 Axes>"
      ]
     },
     "metadata": {},
     "output_type": "display_data"
    }
   ],
   "source": [
    "#Outliers detection\n",
    "fig,ax = plt.subplots(figsize=(10,5))\n",
    "sns.boxplot(iris,ax=ax)"
   ]
  },
  {
   "cell_type": "markdown",
   "id": "e39b7acd",
   "metadata": {
    "papermill": {
     "duration": 0.015548,
     "end_time": "2024-09-28T01:06:40.569319",
     "exception": false,
     "start_time": "2024-09-28T01:06:40.553771",
     "status": "completed"
    },
    "tags": []
   },
   "source": [
    "**Data Analysis**"
   ]
  },
  {
   "cell_type": "code",
   "execution_count": 14,
   "id": "d7d10126",
   "metadata": {
    "execution": {
     "iopub.execute_input": "2024-09-28T01:06:40.604002Z",
     "iopub.status.busy": "2024-09-28T01:06:40.603533Z",
     "iopub.status.idle": "2024-09-28T01:06:40.630444Z",
     "shell.execute_reply": "2024-09-28T01:06:40.629203Z"
    },
    "papermill": {
     "duration": 0.047635,
     "end_time": "2024-09-28T01:06:40.633398",
     "exception": false,
     "start_time": "2024-09-28T01:06:40.585763",
     "status": "completed"
    },
    "tags": []
   },
   "outputs": [
    {
     "data": {
      "text/html": [
       "<div>\n",
       "<style scoped>\n",
       "    .dataframe tbody tr th:only-of-type {\n",
       "        vertical-align: middle;\n",
       "    }\n",
       "\n",
       "    .dataframe tbody tr th {\n",
       "        vertical-align: top;\n",
       "    }\n",
       "\n",
       "    .dataframe thead th {\n",
       "        text-align: right;\n",
       "    }\n",
       "</style>\n",
       "<table border=\"1\" class=\"dataframe\">\n",
       "  <thead>\n",
       "    <tr style=\"text-align: right;\">\n",
       "      <th></th>\n",
       "      <th>sepal_length</th>\n",
       "      <th>sepal_width</th>\n",
       "      <th>petal_length</th>\n",
       "      <th>petal_width</th>\n",
       "    </tr>\n",
       "  </thead>\n",
       "  <tbody>\n",
       "    <tr>\n",
       "      <th>count</th>\n",
       "      <td>147.000000</td>\n",
       "      <td>147.000000</td>\n",
       "      <td>147.000000</td>\n",
       "      <td>147.000000</td>\n",
       "    </tr>\n",
       "    <tr>\n",
       "      <th>mean</th>\n",
       "      <td>5.856463</td>\n",
       "      <td>3.055782</td>\n",
       "      <td>3.780272</td>\n",
       "      <td>1.208844</td>\n",
       "    </tr>\n",
       "    <tr>\n",
       "      <th>std</th>\n",
       "      <td>0.829100</td>\n",
       "      <td>0.437009</td>\n",
       "      <td>1.759111</td>\n",
       "      <td>0.757874</td>\n",
       "    </tr>\n",
       "    <tr>\n",
       "      <th>min</th>\n",
       "      <td>4.300000</td>\n",
       "      <td>2.000000</td>\n",
       "      <td>1.000000</td>\n",
       "      <td>0.100000</td>\n",
       "    </tr>\n",
       "    <tr>\n",
       "      <th>25%</th>\n",
       "      <td>5.100000</td>\n",
       "      <td>2.800000</td>\n",
       "      <td>1.600000</td>\n",
       "      <td>0.300000</td>\n",
       "    </tr>\n",
       "    <tr>\n",
       "      <th>50%</th>\n",
       "      <td>5.800000</td>\n",
       "      <td>3.000000</td>\n",
       "      <td>4.400000</td>\n",
       "      <td>1.300000</td>\n",
       "    </tr>\n",
       "    <tr>\n",
       "      <th>75%</th>\n",
       "      <td>6.400000</td>\n",
       "      <td>3.300000</td>\n",
       "      <td>5.100000</td>\n",
       "      <td>1.800000</td>\n",
       "    </tr>\n",
       "    <tr>\n",
       "      <th>max</th>\n",
       "      <td>7.900000</td>\n",
       "      <td>4.400000</td>\n",
       "      <td>6.900000</td>\n",
       "      <td>2.500000</td>\n",
       "    </tr>\n",
       "  </tbody>\n",
       "</table>\n",
       "</div>"
      ],
      "text/plain": [
       "       sepal_length  sepal_width  petal_length  petal_width\n",
       "count    147.000000   147.000000    147.000000   147.000000\n",
       "mean       5.856463     3.055782      3.780272     1.208844\n",
       "std        0.829100     0.437009      1.759111     0.757874\n",
       "min        4.300000     2.000000      1.000000     0.100000\n",
       "25%        5.100000     2.800000      1.600000     0.300000\n",
       "50%        5.800000     3.000000      4.400000     1.300000\n",
       "75%        6.400000     3.300000      5.100000     1.800000\n",
       "max        7.900000     4.400000      6.900000     2.500000"
      ]
     },
     "execution_count": 14,
     "metadata": {},
     "output_type": "execute_result"
    }
   ],
   "source": [
    "iris.describe()"
   ]
  },
  {
   "cell_type": "code",
   "execution_count": 15,
   "id": "db91ace7",
   "metadata": {
    "execution": {
     "iopub.execute_input": "2024-09-28T01:06:40.667866Z",
     "iopub.status.busy": "2024-09-28T01:06:40.667397Z",
     "iopub.status.idle": "2024-09-28T01:06:40.675174Z",
     "shell.execute_reply": "2024-09-28T01:06:40.673929Z"
    },
    "papermill": {
     "duration": 0.02819,
     "end_time": "2024-09-28T01:06:40.677855",
     "exception": false,
     "start_time": "2024-09-28T01:06:40.649665",
     "status": "completed"
    },
    "tags": []
   },
   "outputs": [
    {
     "data": {
      "text/plain": [
       "array(['Iris-setosa', 'Iris-versicolor', 'Iris-virginica'], dtype=object)"
      ]
     },
     "execution_count": 15,
     "metadata": {},
     "output_type": "execute_result"
    }
   ],
   "source": [
    "iris.species.unique()"
   ]
  },
  {
   "cell_type": "code",
   "execution_count": 16,
   "id": "3d0506d4",
   "metadata": {
    "execution": {
     "iopub.execute_input": "2024-09-28T01:06:40.713248Z",
     "iopub.status.busy": "2024-09-28T01:06:40.712770Z",
     "iopub.status.idle": "2024-09-28T01:06:40.723124Z",
     "shell.execute_reply": "2024-09-28T01:06:40.721838Z"
    },
    "papermill": {
     "duration": 0.030952,
     "end_time": "2024-09-28T01:06:40.725836",
     "exception": false,
     "start_time": "2024-09-28T01:06:40.694884",
     "status": "completed"
    },
    "tags": []
   },
   "outputs": [
    {
     "data": {
      "text/plain": [
       "species\n",
       "Iris-versicolor    50\n",
       "Iris-virginica     49\n",
       "Iris-setosa        48\n",
       "Name: count, dtype: int64"
      ]
     },
     "execution_count": 16,
     "metadata": {},
     "output_type": "execute_result"
    }
   ],
   "source": [
    "iris['species'].value_counts()"
   ]
  },
  {
   "cell_type": "code",
   "execution_count": 17,
   "id": "f065913c",
   "metadata": {
    "execution": {
     "iopub.execute_input": "2024-09-28T01:06:40.761487Z",
     "iopub.status.busy": "2024-09-28T01:06:40.760234Z",
     "iopub.status.idle": "2024-09-28T01:06:41.675615Z",
     "shell.execute_reply": "2024-09-28T01:06:41.674443Z"
    },
    "papermill": {
     "duration": 0.936691,
     "end_time": "2024-09-28T01:06:41.679101",
     "exception": false,
     "start_time": "2024-09-28T01:06:40.742410",
     "status": "completed"
    },
    "tags": []
   },
   "outputs": [
    {
     "data": {
      "image/png": "[encoded data removed]",
      "text/plain": [
       "<Figure size 1200x800 with 4 Axes>"
      ]
     },
     "metadata": {},
     "output_type": "display_data"
    }
   ],
   "source": [
    "# Histogram plots for numerical features\n",
    "fig,ax=plt.subplots(2,2, figsize=(12,8))\n",
    "\n",
    "ax[0,0].hist(iris['sepal_length'],bins=20,edgecolor='black')\n",
    "ax[0,0].set_xlabel('sepal_length')\n",
    "ax[0,0].set_ylabel('frequency')\n",
    "\n",
    "ax[0,1].hist(iris['sepal_width'],bins=20,edgecolor='black',color='brown')\n",
    "ax[0,1].set_xlabel('sepal_width')\n",
    "ax[0,1].set_ylabel('frequency')\n",
    "\n",
    "ax[1,0].hist(iris['petal_length'],bins=20,edgecolor='black',color='purple')\n",
    "ax[1,0].set_xlabel('petal_length')\n",
    "ax[1,0].set_ylabel('frequency')\n",
    "\n",
    "ax[1,1].hist(iris['petal_width'],bins=20,edgecolor='black',color='green')\n",
    "ax[1,1].set_xlabel('petal_width')\n",
    "ax[1,1].set_ylabel('frequency')\n",
    "plt.show()"
   ]
  },
  {
   "cell_type": "code",
   "execution_count": 18,
   "id": "ab1cb670",
   "metadata": {
    "execution": {
     "iopub.execute_input": "2024-09-28T01:06:41.717504Z",
     "iopub.status.busy": "2024-09-28T01:06:41.716991Z",
     "iopub.status.idle": "2024-09-28T01:06:41.965354Z",
     "shell.execute_reply": "2024-09-28T01:06:41.964236Z"
    },
    "papermill": {
     "duration": 0.270319,
     "end_time": "2024-09-28T01:06:41.967945",
     "exception": false,
     "start_time": "2024-09-28T01:06:41.697626",
     "status": "completed"
    },
    "tags": []
   },
   "outputs": [
    {
     "data": {
      "text/plain": [
       "<Axes: xlabel='species', ylabel='count'>"
      ]
     },
     "execution_count": 18,
     "metadata": {},
     "output_type": "execute_result"
    },
    {
     "data": {
      "image/png": "[encoded data removed]",
      "text/plain": [
       "<Figure size 640x480 with 1 Axes>"
      ]
     },
     "metadata": {},
     "output_type": "display_data"
    }
   ],
   "source": [
    "# Plotting the species data\n",
    "sns.countplot(x = \"species\",data=iris,palette=\"Dark2\")"
   ]
  },
  {
   "cell_type": "code",
   "execution_count": 19,
   "id": "91af64b7",
   "metadata": {
    "execution": {
     "iopub.execute_input": "2024-09-28T01:06:42.005462Z",
     "iopub.status.busy": "2024-09-28T01:06:42.005005Z",
     "iopub.status.idle": "2024-09-28T01:06:42.393325Z",
     "shell.execute_reply": "2024-09-28T01:06:42.391831Z"
    },
    "papermill": {
     "duration": 0.411129,
     "end_time": "2024-09-28T01:06:42.396843",
     "exception": false,
     "start_time": "2024-09-28T01:06:41.985714",
     "status": "completed"
    },
    "tags": []
   },
   "outputs": [
    {
     "data": {
      "image/png": "[encoded data removed]",
      "text/plain": [
       "<Figure size 640x480 with 2 Axes>"
      ]
     },
     "metadata": {},
     "output_type": "display_data"
    }
   ],
   "source": [
    "# Checking relationship between variables\n",
    "fig,ax=plt.subplots()\n",
    "sns.heatmap(iris.drop(columns='species').corr(), annot=True,cmap='Spectral',fmt=\".2f\",ax=ax,linewidth=0.5)\n",
    "plt.show()"
   ]
  },
  {
   "cell_type": "code",
   "execution_count": 20,
   "id": "63dfa5b7",
   "metadata": {
    "execution": {
     "iopub.execute_input": "2024-09-28T01:06:42.448384Z",
     "iopub.status.busy": "2024-09-28T01:06:42.447900Z",
     "iopub.status.idle": "2024-09-28T01:06:42.854474Z",
     "shell.execute_reply": "2024-09-28T01:06:42.853274Z"
    },
    "papermill": {
     "duration": 0.43296,
     "end_time": "2024-09-28T01:06:42.857451",
     "exception": false,
     "start_time": "2024-09-28T01:06:42.424491",
     "status": "completed"
    },
    "tags": []
   },
   "outputs": [
    {
     "data": {
      "image/png": "[encoded data removed]",
      "text/plain": [
       "<Figure size 800x600 with 1 Axes>"
      ]
     },
     "metadata": {},
     "output_type": "display_data"
    }
   ],
   "source": [
    "# Scatterplot for petal length and petal width by species\n",
    "fig,ax=plt.subplots(figsize=(8,6))\n",
    "sns.scatterplot(x=\"petal_width\",y=\"petal_length\",hue=\"species\",data=iris)\n",
    "plt.show()"
   ]
  },
  {
   "cell_type": "code",
   "execution_count": 21,
   "id": "0827bbe9",
   "metadata": {
    "execution": {
     "iopub.execute_input": "2024-09-28T01:06:42.899127Z",
     "iopub.status.busy": "2024-09-28T01:06:42.898652Z",
     "iopub.status.idle": "2024-09-28T01:06:43.304855Z",
     "shell.execute_reply": "2024-09-28T01:06:43.303597Z"
    },
    "papermill": {
     "duration": 0.430918,
     "end_time": "2024-09-28T01:06:43.307525",
     "exception": false,
     "start_time": "2024-09-28T01:06:42.876607",
     "status": "completed"
    },
    "tags": []
   },
   "outputs": [
    {
     "data": {
      "image/png": "[encoded data removed]",
      "text/plain": [
       "<Figure size 800x600 with 1 Axes>"
      ]
     },
     "metadata": {},
     "output_type": "display_data"
    }
   ],
   "source": [
    "# Scatterplot for sepal length and sepal width by species\n",
    "fig,ax=plt.subplots(figsize=(8,6))\n",
    "sns.scatterplot(x=\"sepal_width\",y=\"sepal_length\",hue=\"species\",data=iris)\n",
    "plt.show()"
   ]
  },
  {
   "cell_type": "code",
   "execution_count": 22,
   "id": "929d0160",
   "metadata": {
    "execution": {
     "iopub.execute_input": "2024-09-28T01:06:43.351711Z",
     "iopub.status.busy": "2024-09-28T01:06:43.350901Z",
     "iopub.status.idle": "2024-09-28T01:06:43.801617Z",
     "shell.execute_reply": "2024-09-28T01:06:43.800339Z"
    },
    "papermill": {
     "duration": 0.47529,
     "end_time": "2024-09-28T01:06:43.804654",
     "exception": false,
     "start_time": "2024-09-28T01:06:43.329364",
     "status": "completed"
    },
    "tags": []
   },
   "outputs": [
    {
     "data": {
      "image/png": "[encoded data removed]",
      "text/plain": [
       "<Figure size 800x600 with 1 Axes>"
      ]
     },
     "metadata": {},
     "output_type": "display_data"
    }
   ],
   "source": [
    "# Scatterplot for sepal length and petal length by species\n",
    "fig,ax=plt.subplots(figsize=(8,6))\n",
    "sns.scatterplot(x=\"petal_length\",y=\"sepal_length\",hue=\"species\",data=iris)\n",
    "plt.show()\n"
   ]
  },
  {
   "cell_type": "markdown",
   "id": "b6d243ed",
   "metadata": {
    "papermill": {
     "duration": 0.021015,
     "end_time": "2024-09-28T01:06:43.847063",
     "exception": false,
     "start_time": "2024-09-28T01:06:43.826048",
     "status": "completed"
    },
    "tags": []
   },
   "source": [
    "Label Encoder"
   ]
  },
  {
   "cell_type": "code",
   "execution_count": 23,
   "id": "2cd775ea",
   "metadata": {
    "execution": {
     "iopub.execute_input": "2024-09-28T01:06:43.891164Z",
     "iopub.status.busy": "2024-09-28T01:06:43.890667Z",
     "iopub.status.idle": "2024-09-28T01:06:43.896403Z",
     "shell.execute_reply": "2024-09-28T01:06:43.895182Z"
    },
    "papermill": {
     "duration": 0.031072,
     "end_time": "2024-09-28T01:06:43.899130",
     "exception": false,
     "start_time": "2024-09-28T01:06:43.868058",
     "status": "completed"
    },
    "tags": []
   },
   "outputs": [],
   "source": [
    "# Label encoding\n",
    "from sklearn.preprocessing import LabelEncoder\n",
    "label_encoder = LabelEncoder()"
   ]
  },
  {
   "cell_type": "code",
   "execution_count": 24,
   "id": "a67787d0",
   "metadata": {
    "execution": {
     "iopub.execute_input": "2024-09-28T01:06:43.942976Z",
     "iopub.status.busy": "2024-09-28T01:06:43.942529Z",
     "iopub.status.idle": "2024-09-28T01:06:43.949401Z",
     "shell.execute_reply": "2024-09-28T01:06:43.948052Z"
    },
    "papermill": {
     "duration": 0.032085,
     "end_time": "2024-09-28T01:06:43.952215",
     "exception": false,
     "start_time": "2024-09-28T01:06:43.920130",
     "status": "completed"
    },
    "tags": []
   },
   "outputs": [],
   "source": [
    "iris['species']=label_encoder.fit_transform(iris['species'])"
   ]
  },
  {
   "cell_type": "code",
   "execution_count": 25,
   "id": "9388a904",
   "metadata": {
    "execution": {
     "iopub.execute_input": "2024-09-28T01:06:43.995858Z",
     "iopub.status.busy": "2024-09-28T01:06:43.995398Z",
     "iopub.status.idle": "2024-09-28T01:06:44.014920Z",
     "shell.execute_reply": "2024-09-28T01:06:44.013724Z"
    },
    "papermill": {
     "duration": 0.044204,
     "end_time": "2024-09-28T01:06:44.017408",
     "exception": false,
     "start_time": "2024-09-28T01:06:43.973204",
     "status": "completed"
    },
    "tags": []
   },
   "outputs": [
    {
     "data": {
      "text/html": [
       "<div>\n",
       "<style scoped>\n",
       "    .dataframe tbody tr th:only-of-type {\n",
       "        vertical-align: middle;\n",
       "    }\n",
       "\n",
       "    .dataframe tbody tr th {\n",
       "        vertical-align: top;\n",
       "    }\n",
       "\n",
       "    .dataframe thead th {\n",
       "        text-align: right;\n",
       "    }\n",
       "</style>\n",
       "<table border=\"1\" class=\"dataframe\">\n",
       "  <thead>\n",
       "    <tr style=\"text-align: right;\">\n",
       "      <th></th>\n",
       "      <th>sepal_length</th>\n",
       "      <th>sepal_width</th>\n",
       "      <th>petal_length</th>\n",
       "      <th>petal_width</th>\n",
       "      <th>species</th>\n",
       "    </tr>\n",
       "  </thead>\n",
       "  <tbody>\n",
       "    <tr>\n",
       "      <th>0</th>\n",
       "      <td>5.1</td>\n",
       "      <td>3.5</td>\n",
       "      <td>1.4</td>\n",
       "      <td>0.2</td>\n",
       "      <td>0</td>\n",
       "    </tr>\n",
       "    <tr>\n",
       "      <th>1</th>\n",
       "      <td>4.9</td>\n",
       "      <td>3.0</td>\n",
       "      <td>1.4</td>\n",
       "      <td>0.2</td>\n",
       "      <td>0</td>\n",
       "    </tr>\n",
       "    <tr>\n",
       "      <th>2</th>\n",
       "      <td>4.7</td>\n",
       "      <td>3.2</td>\n",
       "      <td>1.3</td>\n",
       "      <td>0.2</td>\n",
       "      <td>0</td>\n",
       "    </tr>\n",
       "    <tr>\n",
       "      <th>3</th>\n",
       "      <td>4.6</td>\n",
       "      <td>3.1</td>\n",
       "      <td>1.5</td>\n",
       "      <td>0.2</td>\n",
       "      <td>0</td>\n",
       "    </tr>\n",
       "    <tr>\n",
       "      <th>4</th>\n",
       "      <td>5.0</td>\n",
       "      <td>3.6</td>\n",
       "      <td>1.4</td>\n",
       "      <td>0.2</td>\n",
       "      <td>0</td>\n",
       "    </tr>\n",
       "    <tr>\n",
       "      <th>...</th>\n",
       "      <td>...</td>\n",
       "      <td>...</td>\n",
       "      <td>...</td>\n",
       "      <td>...</td>\n",
       "      <td>...</td>\n",
       "    </tr>\n",
       "    <tr>\n",
       "      <th>145</th>\n",
       "      <td>6.7</td>\n",
       "      <td>3.0</td>\n",
       "      <td>5.2</td>\n",
       "      <td>2.3</td>\n",
       "      <td>2</td>\n",
       "    </tr>\n",
       "    <tr>\n",
       "      <th>146</th>\n",
       "      <td>6.3</td>\n",
       "      <td>2.5</td>\n",
       "      <td>5.0</td>\n",
       "      <td>1.9</td>\n",
       "      <td>2</td>\n",
       "    </tr>\n",
       "    <tr>\n",
       "      <th>147</th>\n",
       "      <td>6.5</td>\n",
       "      <td>3.0</td>\n",
       "      <td>5.2</td>\n",
       "      <td>2.0</td>\n",
       "      <td>2</td>\n",
       "    </tr>\n",
       "    <tr>\n",
       "      <th>148</th>\n",
       "      <td>6.2</td>\n",
       "      <td>3.4</td>\n",
       "      <td>5.4</td>\n",
       "      <td>2.3</td>\n",
       "      <td>2</td>\n",
       "    </tr>\n",
       "    <tr>\n",
       "      <th>149</th>\n",
       "      <td>5.9</td>\n",
       "      <td>3.0</td>\n",
       "      <td>5.1</td>\n",
       "      <td>1.8</td>\n",
       "      <td>2</td>\n",
       "    </tr>\n",
       "  </tbody>\n",
       "</table>\n",
       "<p>147 rows × 5 columns</p>\n",
       "</div>"
      ],
      "text/plain": [
       "     sepal_length  sepal_width  petal_length  petal_width  species\n",
       "0             5.1          3.5           1.4          0.2        0\n",
       "1             4.9          3.0           1.4          0.2        0\n",
       "2             4.7          3.2           1.3          0.2        0\n",
       "3             4.6          3.1           1.5          0.2        0\n",
       "4             5.0          3.6           1.4          0.2        0\n",
       "..            ...          ...           ...          ...      ...\n",
       "145           6.7          3.0           5.2          2.3        2\n",
       "146           6.3          2.5           5.0          1.9        2\n",
       "147           6.5          3.0           5.2          2.0        2\n",
       "148           6.2          3.4           5.4          2.3        2\n",
       "149           5.9          3.0           5.1          1.8        2\n",
       "\n",
       "[147 rows x 5 columns]"
      ]
     },
     "execution_count": 25,
     "metadata": {},
     "output_type": "execute_result"
    }
   ],
   "source": [
    "iris"
   ]
  },
  {
   "cell_type": "code",
   "execution_count": 26,
   "id": "a56e41b9",
   "metadata": {
    "execution": {
     "iopub.execute_input": "2024-09-28T01:06:44.062875Z",
     "iopub.status.busy": "2024-09-28T01:06:44.061648Z",
     "iopub.status.idle": "2024-09-28T01:06:44.179766Z",
     "shell.execute_reply": "2024-09-28T01:06:44.178482Z"
    },
    "papermill": {
     "duration": 0.143607,
     "end_time": "2024-09-28T01:06:44.182649",
     "exception": false,
     "start_time": "2024-09-28T01:06:44.039042",
     "status": "completed"
    },
    "tags": []
   },
   "outputs": [],
   "source": [
    "from sklearn.model_selection import train_test_split\n",
    "\n",
    "# Define feature and target variables\n",
    "x= iris.drop('species',axis=1)\n",
    "y=iris['species']\n",
    "\n",
    "#Split dataset into training and testing sets\n",
    "x_train,x_test,y_train,y_test = train_test_split(x,y, test_size=0.2)\n",
    "train_data= x_train.join(y_train)"
   ]
  },
  {
   "cell_type": "code",
   "execution_count": 27,
   "id": "16a1c95b",
   "metadata": {
    "execution": {
     "iopub.execute_input": "2024-09-28T01:06:44.227789Z",
     "iopub.status.busy": "2024-09-28T01:06:44.227347Z",
     "iopub.status.idle": "2024-09-28T01:06:44.246297Z",
     "shell.execute_reply": "2024-09-28T01:06:44.245154Z"
    },
    "papermill": {
     "duration": 0.044152,
     "end_time": "2024-09-28T01:06:44.248852",
     "exception": false,
     "start_time": "2024-09-28T01:06:44.204700",
     "status": "completed"
    },
    "tags": []
   },
   "outputs": [
    {
     "data": {
      "text/html": [
       "<div>\n",
       "<style scoped>\n",
       "    .dataframe tbody tr th:only-of-type {\n",
       "        vertical-align: middle;\n",
       "    }\n",
       "\n",
       "    .dataframe tbody tr th {\n",
       "        vertical-align: top;\n",
       "    }\n",
       "\n",
       "    .dataframe thead th {\n",
       "        text-align: right;\n",
       "    }\n",
       "</style>\n",
       "<table border=\"1\" class=\"dataframe\">\n",
       "  <thead>\n",
       "    <tr style=\"text-align: right;\">\n",
       "      <th></th>\n",
       "      <th>sepal_length</th>\n",
       "      <th>sepal_width</th>\n",
       "      <th>petal_length</th>\n",
       "      <th>petal_width</th>\n",
       "      <th>species</th>\n",
       "    </tr>\n",
       "  </thead>\n",
       "  <tbody>\n",
       "    <tr>\n",
       "      <th>68</th>\n",
       "      <td>6.2</td>\n",
       "      <td>2.2</td>\n",
       "      <td>4.5</td>\n",
       "      <td>1.5</td>\n",
       "      <td>1</td>\n",
       "    </tr>\n",
       "    <tr>\n",
       "      <th>126</th>\n",
       "      <td>6.2</td>\n",
       "      <td>2.8</td>\n",
       "      <td>4.8</td>\n",
       "      <td>1.8</td>\n",
       "      <td>2</td>\n",
       "    </tr>\n",
       "    <tr>\n",
       "      <th>66</th>\n",
       "      <td>5.6</td>\n",
       "      <td>3.0</td>\n",
       "      <td>4.5</td>\n",
       "      <td>1.5</td>\n",
       "      <td>1</td>\n",
       "    </tr>\n",
       "    <tr>\n",
       "      <th>28</th>\n",
       "      <td>5.2</td>\n",
       "      <td>3.4</td>\n",
       "      <td>1.4</td>\n",
       "      <td>0.2</td>\n",
       "      <td>0</td>\n",
       "    </tr>\n",
       "    <tr>\n",
       "      <th>51</th>\n",
       "      <td>6.4</td>\n",
       "      <td>3.2</td>\n",
       "      <td>4.5</td>\n",
       "      <td>1.5</td>\n",
       "      <td>1</td>\n",
       "    </tr>\n",
       "    <tr>\n",
       "      <th>...</th>\n",
       "      <td>...</td>\n",
       "      <td>...</td>\n",
       "      <td>...</td>\n",
       "      <td>...</td>\n",
       "      <td>...</td>\n",
       "    </tr>\n",
       "    <tr>\n",
       "      <th>58</th>\n",
       "      <td>6.6</td>\n",
       "      <td>2.9</td>\n",
       "      <td>4.6</td>\n",
       "      <td>1.3</td>\n",
       "      <td>1</td>\n",
       "    </tr>\n",
       "    <tr>\n",
       "      <th>65</th>\n",
       "      <td>6.7</td>\n",
       "      <td>3.1</td>\n",
       "      <td>4.4</td>\n",
       "      <td>1.4</td>\n",
       "      <td>1</td>\n",
       "    </tr>\n",
       "    <tr>\n",
       "      <th>18</th>\n",
       "      <td>5.7</td>\n",
       "      <td>3.8</td>\n",
       "      <td>1.7</td>\n",
       "      <td>0.3</td>\n",
       "      <td>0</td>\n",
       "    </tr>\n",
       "    <tr>\n",
       "      <th>13</th>\n",
       "      <td>4.3</td>\n",
       "      <td>3.0</td>\n",
       "      <td>1.1</td>\n",
       "      <td>0.1</td>\n",
       "      <td>0</td>\n",
       "    </tr>\n",
       "    <tr>\n",
       "      <th>49</th>\n",
       "      <td>5.0</td>\n",
       "      <td>3.3</td>\n",
       "      <td>1.4</td>\n",
       "      <td>0.2</td>\n",
       "      <td>0</td>\n",
       "    </tr>\n",
       "  </tbody>\n",
       "</table>\n",
       "<p>117 rows × 5 columns</p>\n",
       "</div>"
      ],
      "text/plain": [
       "     sepal_length  sepal_width  petal_length  petal_width  species\n",
       "68            6.2          2.2           4.5          1.5        1\n",
       "126           6.2          2.8           4.8          1.8        2\n",
       "66            5.6          3.0           4.5          1.5        1\n",
       "28            5.2          3.4           1.4          0.2        0\n",
       "51            6.4          3.2           4.5          1.5        1\n",
       "..            ...          ...           ...          ...      ...\n",
       "58            6.6          2.9           4.6          1.3        1\n",
       "65            6.7          3.1           4.4          1.4        1\n",
       "18            5.7          3.8           1.7          0.3        0\n",
       "13            4.3          3.0           1.1          0.1        0\n",
       "49            5.0          3.3           1.4          0.2        0\n",
       "\n",
       "[117 rows x 5 columns]"
      ]
     },
     "execution_count": 27,
     "metadata": {},
     "output_type": "execute_result"
    }
   ],
   "source": [
    "train_data"
   ]
  },
  {
   "cell_type": "markdown",
   "id": "b7cb470d",
   "metadata": {
    "papermill": {
     "duration": 0.02262,
     "end_time": "2024-09-28T01:06:44.293428",
     "exception": false,
     "start_time": "2024-09-28T01:06:44.270808",
     "status": "completed"
    },
    "tags": []
   },
   "source": [
    "**Confusion Matrix:**\n",
    "created and visualized using Seaborn's heatmap function"
   ]
  },
  {
   "cell_type": "code",
   "execution_count": 28,
   "id": "276f01ce",
   "metadata": {
    "execution": {
     "iopub.execute_input": "2024-09-28T01:06:44.341707Z",
     "iopub.status.busy": "2024-09-28T01:06:44.340486Z",
     "iopub.status.idle": "2024-09-28T01:06:44.483389Z",
     "shell.execute_reply": "2024-09-28T01:06:44.482153Z"
    },
    "papermill": {
     "duration": 0.17073,
     "end_time": "2024-09-28T01:06:44.486208",
     "exception": false,
     "start_time": "2024-09-28T01:06:44.315478",
     "status": "completed"
    },
    "tags": []
   },
   "outputs": [
    {
     "name": "stderr",
     "output_type": "stream",
     "text": [
      "/opt/conda/lib/python3.10/site-packages/sklearn/linear_model/_logistic.py:458: ConvergenceWarning: lbfgs failed to converge (status=1):\n",
      "STOP: TOTAL NO. of ITERATIONS REACHED LIMIT.\n",
      "\n",
      "Increase the number of iterations (max_iter) or scale the data as shown in:\n",
      "    https://scikit-learn.org/stable/modules/preprocessing.html\n",
      "Please also refer to the documentation for alternative solver options:\n",
      "    https://scikit-learn.org/stable/modules/linear_model.html#logistic-regression\n",
      "  n_iter_i = _check_optimize_result(\n"
     ]
    }
   ],
   "source": [
    "from sklearn.linear_model import LogisticRegression\n",
    "\n",
    "#Build a Logisitc Regression model\n",
    "fitted_model_lr = LogisticRegression()\n",
    "#Train the model\n",
    "fitted_model_lr.fit(x_train,y_train)\n",
    "#Make predictions\n",
    "y_pred_lr = fitted_model_lr.predict(x_test)"
   ]
  },
  {
   "cell_type": "code",
   "execution_count": 29,
   "id": "20ac7d44",
   "metadata": {
    "execution": {
     "iopub.execute_input": "2024-09-28T01:06:44.533494Z",
     "iopub.status.busy": "2024-09-28T01:06:44.533006Z",
     "iopub.status.idle": "2024-09-28T01:06:44.839406Z",
     "shell.execute_reply": "2024-09-28T01:06:44.838185Z"
    },
    "papermill": {
     "duration": 0.334011,
     "end_time": "2024-09-28T01:06:44.842039",
     "exception": false,
     "start_time": "2024-09-28T01:06:44.508028",
     "status": "completed"
    },
    "tags": []
   },
   "outputs": [
    {
     "name": "stdout",
     "output_type": "stream",
     "text": [
      " Accuracy for LR: 1.0000\n",
      "              precision    recall  f1-score   support\n",
      "\n",
      "           0       1.00      1.00      1.00        15\n",
      "           1       1.00      1.00      1.00         8\n",
      "           2       1.00      1.00      1.00         7\n",
      "\n",
      "    accuracy                           1.00        30\n",
      "   macro avg       1.00      1.00      1.00        30\n",
      "weighted avg       1.00      1.00      1.00        30\n",
      "\n"
     ]
    },
    {
     "data": {
      "image/png": "[encoded data removed]",
      "text/plain": [
       "<Figure size 640x480 with 2 Axes>"
      ]
     },
     "metadata": {},
     "output_type": "display_data"
    }
   ],
   "source": [
    "from sklearn.metrics import accuracy_score, classification_report, confusion_matrix\n",
    "\n",
    "# Model's performance evaluating\n",
    "accuracy = accuracy_score(y_test, y_pred_lr)\n",
    "print(f' Accuracy for LR: {accuracy:.4f}')\n",
    "print(classification_report(y_test, y_pred_lr))\n",
    "cf=confusion_matrix(y_test,y_pred_lr)\n",
    "sns.heatmap(cf,annot=True,fmt=\".2f\",cmap=\"Spectral\",linewidth=0.5)\n",
    "plt.title('Confusion Matrix for LR Model')\n",
    "plt.xlabel('Predicted labels')\n",
    "plt.ylabel('True labels')\n",
    "plt.show()"
   ]
  },
  {
   "cell_type": "markdown",
   "id": "636b3c48",
   "metadata": {
    "papermill": {
     "duration": 0.021871,
     "end_time": "2024-09-28T01:06:44.886183",
     "exception": false,
     "start_time": "2024-09-28T01:06:44.864312",
     "status": "completed"
    },
    "tags": []
   },
   "source": [
    "The Logistic Regression model performed exceptionally well on the iris flower classification task, achieving perfect accuracy, precision, recall, and F1-scores across all species. This indicates that the model effectively distinguished between the three iris species without any misclassifications in the test dataset"
   ]
  },
  {
   "cell_type": "markdown",
   "id": "81894971",
   "metadata": {
    "papermill": {
     "duration": 0.021804,
     "end_time": "2024-09-28T01:06:44.930830",
     "exception": false,
     "start_time": "2024-09-28T01:06:44.909026",
     "status": "completed"
    },
    "tags": []
   },
   "source": [
    "**2. K- Nearest Neighbors (KNN) Model**\n"
   ]
  },
  {
   "cell_type": "code",
   "execution_count": 30,
   "id": "07383f75",
   "metadata": {
    "execution": {
     "iopub.execute_input": "2024-09-28T01:06:44.976875Z",
     "iopub.status.busy": "2024-09-28T01:06:44.976393Z",
     "iopub.status.idle": "2024-09-28T01:06:45.054177Z",
     "shell.execute_reply": "2024-09-28T01:06:45.052860Z"
    },
    "papermill": {
     "duration": 0.104006,
     "end_time": "2024-09-28T01:06:45.056844",
     "exception": false,
     "start_time": "2024-09-28T01:06:44.952838",
     "status": "completed"
    },
    "tags": []
   },
   "outputs": [],
   "source": [
    "from sklearn.neighbors import KNeighborsClassifier\n",
    "\n",
    "#Build a KNN model\n",
    "fitted_model_knn = KNeighborsClassifier()\n",
    "#Train the model\n",
    "fitted_model_knn.fit(x_train,y_train)\n",
    "#Make predictions\n",
    "y_pred_knn = fitted_model_knn.predict(x_test)"
   ]
  },
  {
   "cell_type": "code",
   "execution_count": 31,
   "id": "921c30ac",
   "metadata": {
    "execution": {
     "iopub.execute_input": "2024-09-28T01:06:45.103337Z",
     "iopub.status.busy": "2024-09-28T01:06:45.102602Z",
     "iopub.status.idle": "2024-09-28T01:06:45.398018Z",
     "shell.execute_reply": "2024-09-28T01:06:45.396837Z"
    },
    "papermill": {
     "duration": 0.321593,
     "end_time": "2024-09-28T01:06:45.400656",
     "exception": false,
     "start_time": "2024-09-28T01:06:45.079063",
     "status": "completed"
    },
    "tags": []
   },
   "outputs": [
    {
     "name": "stdout",
     "output_type": "stream",
     "text": [
      " Accuracy for KNN: 0.9667\n",
      "              precision    recall  f1-score   support\n",
      "\n",
      "           0       1.00      1.00      1.00        15\n",
      "           1       1.00      0.88      0.93         8\n",
      "           2       0.88      1.00      0.93         7\n",
      "\n",
      "    accuracy                           0.97        30\n",
      "   macro avg       0.96      0.96      0.96        30\n",
      "weighted avg       0.97      0.97      0.97        30\n",
      "\n"
     ]
    },
    {
     "data": {
      "image/png": "[encoded data removed]",
      "text/plain": [
       "<Figure size 640x480 with 2 Axes>"
      ]
     },
     "metadata": {},
     "output_type": "display_data"
    }
   ],
   "source": [
    "# Model's performance evaluating\n",
    "accuracy1 = accuracy_score(y_test, y_pred_knn)\n",
    "print(f' Accuracy for KNN: {accuracy1:.4f}')\n",
    "print(classification_report(y_test, y_pred_knn))\n",
    "cf1=confusion_matrix(y_test,y_pred_knn)\n",
    "sns.heatmap(cf1,annot=True,fmt=\".2f\",cmap=\"Spectral\",linewidth=0.5)\n",
    "plt.title('Confusion Matrix for KNN Model')\n",
    "plt.xlabel('Predicted labels')\n",
    "plt.ylabel('True labels')\n",
    "plt.show()"
   ]
  },
  {
   "cell_type": "markdown",
   "id": "173f0dfe",
   "metadata": {
    "papermill": {
     "duration": 0.0231,
     "end_time": "2024-09-28T01:06:45.446835",
     "exception": false,
     "start_time": "2024-09-28T01:06:45.423735",
     "status": "completed"
    },
    "tags": []
   },
   "source": [
    "**3. Support Vector Machine (SVM) Model**"
   ]
  },
  {
   "cell_type": "code",
   "execution_count": 32,
   "id": "71888011",
   "metadata": {
    "execution": {
     "iopub.execute_input": "2024-09-28T01:06:45.495153Z",
     "iopub.status.busy": "2024-09-28T01:06:45.494662Z",
     "iopub.status.idle": "2024-09-28T01:06:45.505933Z",
     "shell.execute_reply": "2024-09-28T01:06:45.504733Z"
    },
    "papermill": {
     "duration": 0.03822,
     "end_time": "2024-09-28T01:06:45.508500",
     "exception": false,
     "start_time": "2024-09-28T01:06:45.470280",
     "status": "completed"
    },
    "tags": []
   },
   "outputs": [],
   "source": [
    "from sklearn.svm import SVC\n",
    "\n",
    "#Build a KNN model\n",
    "fitted_model_svm = SVC()\n",
    "#Train the model\n",
    "fitted_model_svm.fit(x_train,y_train)\n",
    "#Make predictions\n",
    "y_pred_svm = fitted_model_svm.predict(x_test)"
   ]
  },
  {
   "cell_type": "code",
   "execution_count": 33,
   "id": "2a48f0b8",
   "metadata": {
    "execution": {
     "iopub.execute_input": "2024-09-28T01:06:45.557005Z",
     "iopub.status.busy": "2024-09-28T01:06:45.555884Z",
     "iopub.status.idle": "2024-09-28T01:06:45.911907Z",
     "shell.execute_reply": "2024-09-28T01:06:45.910603Z"
    },
    "papermill": {
     "duration": 0.383122,
     "end_time": "2024-09-28T01:06:45.914694",
     "exception": false,
     "start_time": "2024-09-28T01:06:45.531572",
     "status": "completed"
    },
    "tags": []
   },
   "outputs": [
    {
     "name": "stdout",
     "output_type": "stream",
     "text": [
      " Accuracy for SVM: 0.9667\n",
      "              precision    recall  f1-score   support\n",
      "\n",
      "           0       1.00      1.00      1.00        15\n",
      "           1       0.89      1.00      0.94         8\n",
      "           2       1.00      0.86      0.92         7\n",
      "\n",
      "    accuracy                           0.97        30\n",
      "   macro avg       0.96      0.95      0.95        30\n",
      "weighted avg       0.97      0.97      0.97        30\n",
      "\n"
     ]
    },
    {
     "data": {
      "image/png": "[encoded data removed]",
      "text/plain": [
       "<Figure size 640x480 with 2 Axes>"
      ]
     },
     "metadata": {},
     "output_type": "display_data"
    }
   ],
   "source": [
    "# Model's performance evaluating\n",
    "accuracy2 = accuracy_score(y_test, y_pred_svm)\n",
    "print(f' Accuracy for SVM: {accuracy2:.4f}')\n",
    "print(classification_report(y_test, y_pred_svm))\n",
    "cf2=confusion_matrix(y_test,y_pred_svm)\n",
    "sns.heatmap(cf2,annot=True,fmt=\".2f\",cmap=\"Spectral\",linewidth=0.5)\n",
    "plt.title('Confusion Matrix for SVM Model')\n",
    "plt.xlabel('Predicted labels')\n",
    "plt.ylabel('True labels')\n",
    "plt.show()"
   ]
  },
  {
   "cell_type": "markdown",
   "id": "c20a14b4",
   "metadata": {
    "papermill": {
     "duration": 0.023617,
     "end_time": "2024-09-28T01:06:45.962342",
     "exception": false,
     "start_time": "2024-09-28T01:06:45.938725",
     "status": "completed"
    },
    "tags": []
   },
   "source": [
    "**4. Decision Tree Model**"
   ]
  },
  {
   "cell_type": "code",
   "execution_count": 34,
   "id": "d569afdb",
   "metadata": {
    "execution": {
     "iopub.execute_input": "2024-09-28T01:06:46.012123Z",
     "iopub.status.busy": "2024-09-28T01:06:46.011622Z",
     "iopub.status.idle": "2024-09-28T01:06:46.056967Z",
     "shell.execute_reply": "2024-09-28T01:06:46.055721Z"
    },
    "papermill": {
     "duration": 0.073676,
     "end_time": "2024-09-28T01:06:46.059875",
     "exception": false,
     "start_time": "2024-09-28T01:06:45.986199",
     "status": "completed"
    },
    "tags": []
   },
   "outputs": [],
   "source": [
    "from sklearn.tree import DecisionTreeClassifier\n",
    "\n",
    "#Build a KNN model\n",
    "fitted_model_dt = DecisionTreeClassifier()\n",
    "#Train the model\n",
    "fitted_model_dt.fit(x_train,y_train)\n",
    "#Make predictions\n",
    "y_pred_dt = fitted_model_dt.predict(x_test)"
   ]
  },
  {
   "cell_type": "code",
   "execution_count": 35,
   "id": "65282b58",
   "metadata": {
    "execution": {
     "iopub.execute_input": "2024-09-28T01:06:46.108891Z",
     "iopub.status.busy": "2024-09-28T01:06:46.108459Z",
     "iopub.status.idle": "2024-09-28T01:06:46.472354Z",
     "shell.execute_reply": "2024-09-28T01:06:46.471265Z"
    },
    "papermill": {
     "duration": 0.391858,
     "end_time": "2024-09-28T01:06:46.475249",
     "exception": false,
     "start_time": "2024-09-28T01:06:46.083391",
     "status": "completed"
    },
    "tags": []
   },
   "outputs": [
    {
     "name": "stdout",
     "output_type": "stream",
     "text": [
      " Accuracy for DT: 0.9333\n",
      "              precision    recall  f1-score   support\n",
      "\n",
      "           0       1.00      1.00      1.00        15\n",
      "           1       1.00      0.75      0.86         8\n",
      "           2       0.78      1.00      0.88         7\n",
      "\n",
      "    accuracy                           0.93        30\n",
      "   macro avg       0.93      0.92      0.91        30\n",
      "weighted avg       0.95      0.93      0.93        30\n",
      "\n"
     ]
    },
    {
     "data": {
      "image/png": "[encoded data removed]",
      "text/plain": [
       "<Figure size 640x480 with 2 Axes>"
      ]
     },
     "metadata": {},
     "output_type": "display_data"
    }
   ],
   "source": [
    "# Model's performance evaluating\n",
    "accuracy3 = accuracy_score(y_test, y_pred_dt)\n",
    "print(f' Accuracy for DT: {accuracy3:.4f}')\n",
    "print(classification_report(y_test, y_pred_dt))\n",
    "cf3=confusion_matrix(y_test,y_pred_dt)\n",
    "sns.heatmap(cf3,annot=True,fmt=\".2f\",cmap=\"Spectral\",linewidth=0.5)\n",
    "plt.title('Confusion Matrix for DT Model')\n",
    "plt.xlabel('Predicted labels')\n",
    "plt.ylabel('True labels')\n",
    "plt.show()"
   ]
  },
  {
   "cell_type": "markdown",
   "id": "121f0adf",
   "metadata": {
    "papermill": {
     "duration": 0.024255,
     "end_time": "2024-09-28T01:06:46.524265",
     "exception": false,
     "start_time": "2024-09-28T01:06:46.500010",
     "status": "completed"
    },
    "tags": []
   },
   "source": [
    "Conclusion:-\n",
    "\n",
    "\n",
    "Overall, the results demonstrate the effectiveness of the Logistic Regression model for classifying iris flower species based on sepal and petal measurements, showing a perfect balance between precision, recall, and F1-score.\n",
    "\n",
    "\n",
    "Accuracy:\n",
    "\n",
    "1.0000 (100%): The model correctly classified all instances in the test set.\n",
    "Precision:\n",
    "\n",
    "Setosa (0): 1.00 — All predicted setosa were correct.\n",
    "Versicolor (1): 1.00 — All predicted versicolor were correct.\n",
    "Virginica (2): 1.00 — All predicted virginica were correct.\n",
    "Macro Average: 1.00 — Average precision across all classes.\n",
    "Weighted Average: 1.00 — Average precision considering the number of instances in each class.\n",
    "Recall:\n",
    "\n",
    "Setosa (0): 1.00 — All actual setosa were predicted correctly.\n",
    "Versicolor (1): 1.00 — All actual versicolor were predicted correctly.\n",
    "Virginica (2): 1.00 — All actual virginica were predicted correctly.\n",
    "Macro Average: 1.00 — Average recall across all classes.\n",
    "Weighted Average: 1.00 — Average recall considering the number of instances in each class.\n",
    "F1-Score:\n",
    "\n",
    "Setosa (0): 1.00\n",
    "Versicolor (1): 1.00\n",
    "Virginica (2): 1.00\n",
    "Macro Average: 1.00 — Average F1-score across all classes.\n",
    "Weighted Average: 1.00 — Average F1-score considering the number of instances in each class.\n",
    "Support:\n",
    "\n",
    "Setosa (0): 13 instances\n",
    "Versicolor (1): 11 instances\n",
    "Virginica (2): 6 instances\n",
    "Total Instances: 30\n",
    "Interpretation\n",
    "The LR model achieved perfect classification across all species, indicating excellent model performance on the Iris dataset.\n",
    "Important Notes:\n",
    "While this performance is impressive, it is crucial to recognize that the Iris dataset is simple and may not be representative of more complex real-world scenarios.\n",
    "Always validate model performance on various datasets and consider potential overfitting, especially when achieving perfect accuracy.\n",
    "\n",
    "\n",
    "\n",
    "\n",
    "\n",
    "\n"
   ]
  }
 ],
 "metadata": {
  "kaggle": {
   "accelerator": "none",
   "dataSources": [
    {
     "datasetId": 5779999,
     "sourceId": 9498049,
     "sourceType": "datasetVersion"
    }
   ],
   "dockerImageVersionId": 30775,
   "isGpuEnabled": false,
   "isInternetEnabled": false,
   "language": "python",
   "sourceType": "notebook"
  },
  "kernelspec": {
   "display_name": "Python 3",
   "language": "python",
   "name": "python3"
  },
  "language_info": {
   "codemirror_mode": {
    "name": "ipython",
    "version": 3
   },
   "file_extension": ".py",
   "mimetype": "text/x-python",
   "name": "python",
   "nbconvert_exporter": "python",
   "pygments_lexer": "ipython3",
   "version": "3.10.14"
  },
  "papermill": {
   "default_parameters": {},
   "duration": 13.95434,
   "end_time": "2024-09-28T01:06:47.272258",
   "environment_variables": {},
   "exception": null,
   "input_path": "__notebook__.ipynb",
   "output_path": "__notebook__.ipynb",
   "parameters": {},
   "start_time": "2024-09-28T01:06:33.317918",
   "version": "2.6.0"
  }
 },
 "nbformat": 4,
 "nbformat_minor": 5
}
